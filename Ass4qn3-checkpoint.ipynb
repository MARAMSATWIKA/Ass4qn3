{
 "cells": [
  {
   "cell_type": "code",
   "execution_count": 4,
   "id": "dd4c43ff",
   "metadata": {},
   "outputs": [
    {
     "name": "stdout",
     "output_type": "stream",
     "text": [
      "Enter a list:4 5 2 9\n",
      "Square of the elements of the list= [16, 25, 4, 81]\n"
     ]
    }
   ],
   "source": [
    "sample_list=list(map(int,input(\"Enter a list:\").split()))#takes input from the user,give elements with space between them.\n",
    "def square(num):\n",
    "    return num*num\n",
    "sample_output=list(map(square,sample_list))\n",
    "print(\"Square of the elements of the list=\",sample_output)"
   ]
  },
  {
   "cell_type": "code",
   "execution_count": null,
   "id": "5cba2793",
   "metadata": {},
   "outputs": [],
   "source": []
  }
 ],
 "metadata": {
  "kernelspec": {
   "display_name": "Python 3 (ipykernel)",
   "language": "python",
   "name": "python3"
  },
  "language_info": {
   "codemirror_mode": {
    "name": "ipython",
    "version": 3
   },
   "file_extension": ".py",
   "mimetype": "text/x-python",
   "name": "python",
   "nbconvert_exporter": "python",
   "pygments_lexer": "ipython3",
   "version": "3.9.7"
  }
 },
 "nbformat": 4,
 "nbformat_minor": 5
}
